{
 "cells": [
  {
   "cell_type": "code",
   "execution_count": 1,
   "metadata": {},
   "outputs": [
    {
     "name": "stdout",
     "output_type": "stream",
     "text": [
      "Defaulting to user installation because normal site-packages is not writeable\n",
      "Requirement already satisfied: streamlit in c:\\users\\amito\\appdata\\roaming\\python\\python312\\site-packages (from -r requirements.txt (line 1)) (1.33.0)\n",
      "Requirement already satisfied: PyPDF2 in c:\\users\\amito\\appdata\\roaming\\python\\python312\\site-packages (from -r requirements.txt (line 2)) (3.0.1)\n",
      "Requirement already satisfied: python-dotenv in c:\\users\\amito\\appdata\\roaming\\python\\python312\\site-packages (from -r requirements.txt (line 3)) (1.0.1)\n",
      "Requirement already satisfied: docx2txt in c:\\users\\amito\\appdata\\roaming\\python\\python312\\site-packages (from -r requirements.txt (line 4)) (0.8)\n",
      "Requirement already satisfied: langchain_google_genai in c:\\users\\amito\\appdata\\roaming\\python\\python312\\site-packages (from -r requirements.txt (line 5)) (1.0.7)\n",
      "Requirement already satisfied: google-generativeai in c:\\users\\amito\\appdata\\roaming\\python\\python312\\site-packages (from -r requirements.txt (line 6)) (0.7.1)\n",
      "Requirement already satisfied: altair<6,>=4.0 in c:\\users\\amito\\appdata\\roaming\\python\\python312\\site-packages (from streamlit->-r requirements.txt (line 1)) (5.3.0)\n",
      "Requirement already satisfied: blinker<2,>=1.0.0 in c:\\users\\amito\\appdata\\roaming\\python\\python312\\site-packages (from streamlit->-r requirements.txt (line 1)) (1.7.0)\n",
      "Requirement already satisfied: cachetools<6,>=4.0 in c:\\users\\amito\\appdata\\roaming\\python\\python312\\site-packages (from streamlit->-r requirements.txt (line 1)) (5.3.3)\n",
      "Requirement already satisfied: click<9,>=7.0 in c:\\users\\amito\\appdata\\roaming\\python\\python312\\site-packages (from streamlit->-r requirements.txt (line 1)) (8.1.7)\n",
      "Requirement already satisfied: numpy<2,>=1.19.3 in c:\\users\\amito\\appdata\\roaming\\python\\python312\\site-packages (from streamlit->-r requirements.txt (line 1)) (1.26.3)\n",
      "Requirement already satisfied: packaging<25,>=16.8 in c:\\users\\amito\\appdata\\roaming\\python\\python312\\site-packages (from streamlit->-r requirements.txt (line 1)) (23.2)\n",
      "Requirement already satisfied: pandas<3,>=1.3.0 in c:\\users\\amito\\appdata\\roaming\\python\\python312\\site-packages (from streamlit->-r requirements.txt (line 1)) (2.1.4)\n",
      "Requirement already satisfied: pillow<11,>=7.1.0 in c:\\users\\amito\\appdata\\roaming\\python\\python312\\site-packages (from streamlit->-r requirements.txt (line 1)) (10.2.0)\n",
      "Requirement already satisfied: protobuf<5,>=3.20 in c:\\users\\amito\\appdata\\roaming\\python\\python312\\site-packages (from streamlit->-r requirements.txt (line 1)) (4.25.3)\n",
      "Requirement already satisfied: pyarrow>=7.0 in c:\\users\\amito\\appdata\\roaming\\python\\python312\\site-packages (from streamlit->-r requirements.txt (line 1)) (15.0.2)\n",
      "Requirement already satisfied: requests<3,>=2.27 in c:\\users\\amito\\appdata\\roaming\\python\\python312\\site-packages (from streamlit->-r requirements.txt (line 1)) (2.31.0)\n",
      "Requirement already satisfied: rich<14,>=10.14.0 in c:\\users\\amito\\appdata\\roaming\\python\\python312\\site-packages (from streamlit->-r requirements.txt (line 1)) (13.7.1)\n",
      "Requirement already satisfied: tenacity<9,>=8.1.0 in c:\\users\\amito\\appdata\\roaming\\python\\python312\\site-packages (from streamlit->-r requirements.txt (line 1)) (8.2.3)\n",
      "Requirement already satisfied: toml<2,>=0.10.1 in c:\\users\\amito\\appdata\\roaming\\python\\python312\\site-packages (from streamlit->-r requirements.txt (line 1)) (0.10.2)\n",
      "Requirement already satisfied: typing-extensions<5,>=4.3.0 in c:\\users\\amito\\appdata\\roaming\\python\\python312\\site-packages (from streamlit->-r requirements.txt (line 1)) (4.11.0)\n",
      "Requirement already satisfied: gitpython!=3.1.19,<4,>=3.0.7 in c:\\users\\amito\\appdata\\roaming\\python\\python312\\site-packages (from streamlit->-r requirements.txt (line 1)) (3.1.43)\n",
      "Requirement already satisfied: pydeck<1,>=0.8.0b4 in c:\\users\\amito\\appdata\\roaming\\python\\python312\\site-packages (from streamlit->-r requirements.txt (line 1)) (0.8.1b0)\n",
      "Requirement already satisfied: tornado<7,>=6.0.3 in c:\\users\\amito\\appdata\\roaming\\python\\python312\\site-packages (from streamlit->-r requirements.txt (line 1)) (6.4)\n",
      "Requirement already satisfied: watchdog>=2.1.5 in c:\\users\\amito\\appdata\\roaming\\python\\python312\\site-packages (from streamlit->-r requirements.txt (line 1)) (4.0.0)\n",
      "Requirement already satisfied: langchain-core<0.3,>=0.2.9 in c:\\users\\amito\\appdata\\roaming\\python\\python312\\site-packages (from langchain_google_genai->-r requirements.txt (line 5)) (0.2.11)\n",
      "Requirement already satisfied: google-ai-generativelanguage==0.6.6 in c:\\users\\amito\\appdata\\roaming\\python\\python312\\site-packages (from google-generativeai->-r requirements.txt (line 6)) (0.6.6)\n",
      "Requirement already satisfied: google-api-core in c:\\users\\amito\\appdata\\roaming\\python\\python312\\site-packages (from google-generativeai->-r requirements.txt (line 6)) (2.19.1)\n",
      "Requirement already satisfied: google-api-python-client in c:\\users\\amito\\appdata\\roaming\\python\\python312\\site-packages (from google-generativeai->-r requirements.txt (line 6)) (2.136.0)\n",
      "Requirement already satisfied: google-auth>=2.15.0 in c:\\users\\amito\\appdata\\roaming\\python\\python312\\site-packages (from google-generativeai->-r requirements.txt (line 6)) (2.31.0)\n",
      "Requirement already satisfied: pydantic in c:\\users\\amito\\appdata\\roaming\\python\\python312\\site-packages (from google-generativeai->-r requirements.txt (line 6)) (1.10.15)\n",
      "Requirement already satisfied: tqdm in c:\\users\\amito\\appdata\\roaming\\python\\python312\\site-packages (from google-generativeai->-r requirements.txt (line 6)) (4.66.2)\n",
      "Requirement already satisfied: proto-plus<2.0.0dev,>=1.22.3 in c:\\users\\amito\\appdata\\roaming\\python\\python312\\site-packages (from google-ai-generativelanguage==0.6.6->google-generativeai->-r requirements.txt (line 6)) (1.24.0)\n",
      "Requirement already satisfied: jinja2 in c:\\users\\amito\\appdata\\roaming\\python\\python312\\site-packages (from altair<6,>=4.0->streamlit->-r requirements.txt (line 1)) (3.1.2)\n",
      "Requirement already satisfied: jsonschema>=3.0 in c:\\users\\amito\\appdata\\roaming\\python\\python312\\site-packages (from altair<6,>=4.0->streamlit->-r requirements.txt (line 1)) (4.20.0)\n",
      "Requirement already satisfied: toolz in c:\\users\\amito\\appdata\\roaming\\python\\python312\\site-packages (from altair<6,>=4.0->streamlit->-r requirements.txt (line 1)) (0.12.1)\n",
      "Requirement already satisfied: colorama in c:\\users\\amito\\appdata\\roaming\\python\\python312\\site-packages (from click<9,>=7.0->streamlit->-r requirements.txt (line 1)) (0.4.6)\n",
      "Requirement already satisfied: gitdb<5,>=4.0.1 in c:\\users\\amito\\appdata\\roaming\\python\\python312\\site-packages (from gitpython!=3.1.19,<4,>=3.0.7->streamlit->-r requirements.txt (line 1)) (4.0.11)\n",
      "Requirement already satisfied: googleapis-common-protos<2.0.dev0,>=1.56.2 in c:\\users\\amito\\appdata\\roaming\\python\\python312\\site-packages (from google-api-core->google-generativeai->-r requirements.txt (line 6)) (1.63.2)\n",
      "Requirement already satisfied: pyasn1-modules>=0.2.1 in c:\\users\\amito\\appdata\\roaming\\python\\python312\\site-packages (from google-auth>=2.15.0->google-generativeai->-r requirements.txt (line 6)) (0.4.0)\n",
      "Requirement already satisfied: rsa<5,>=3.1.4 in c:\\users\\amito\\appdata\\roaming\\python\\python312\\site-packages (from google-auth>=2.15.0->google-generativeai->-r requirements.txt (line 6)) (4.9)\n",
      "Requirement already satisfied: PyYAML>=5.3 in c:\\users\\amito\\appdata\\roaming\\python\\python312\\site-packages (from langchain-core<0.3,>=0.2.9->langchain_google_genai->-r requirements.txt (line 5)) (6.0.1)\n",
      "Requirement already satisfied: jsonpatch<2.0,>=1.33 in c:\\users\\amito\\appdata\\roaming\\python\\python312\\site-packages (from langchain-core<0.3,>=0.2.9->langchain_google_genai->-r requirements.txt (line 5)) (1.33)\n",
      "Requirement already satisfied: langsmith<0.2.0,>=0.1.75 in c:\\users\\amito\\appdata\\roaming\\python\\python312\\site-packages (from langchain-core<0.3,>=0.2.9->langchain_google_genai->-r requirements.txt (line 5)) (0.1.83)\n",
      "Requirement already satisfied: python-dateutil>=2.8.2 in c:\\users\\amito\\appdata\\roaming\\python\\python312\\site-packages (from pandas<3,>=1.3.0->streamlit->-r requirements.txt (line 1)) (2.8.2)\n",
      "Requirement already satisfied: pytz>=2020.1 in c:\\users\\amito\\appdata\\roaming\\python\\python312\\site-packages (from pandas<3,>=1.3.0->streamlit->-r requirements.txt (line 1)) (2023.3.post1)\n",
      "Requirement already satisfied: tzdata>=2022.1 in c:\\users\\amito\\appdata\\roaming\\python\\python312\\site-packages (from pandas<3,>=1.3.0->streamlit->-r requirements.txt (line 1)) (2023.4)\n",
      "Requirement already satisfied: charset-normalizer<4,>=2 in c:\\users\\amito\\appdata\\roaming\\python\\python312\\site-packages (from requests<3,>=2.27->streamlit->-r requirements.txt (line 1)) (3.3.2)\n",
      "Requirement already satisfied: idna<4,>=2.5 in c:\\users\\amito\\appdata\\roaming\\python\\python312\\site-packages (from requests<3,>=2.27->streamlit->-r requirements.txt (line 1)) (3.6)\n",
      "Requirement already satisfied: urllib3<3,>=1.21.1 in c:\\users\\amito\\appdata\\roaming\\python\\python312\\site-packages (from requests<3,>=2.27->streamlit->-r requirements.txt (line 1)) (2.1.0)\n",
      "Requirement already satisfied: certifi>=2017.4.17 in c:\\users\\amito\\appdata\\roaming\\python\\python312\\site-packages (from requests<3,>=2.27->streamlit->-r requirements.txt (line 1)) (2023.11.17)\n",
      "Requirement already satisfied: markdown-it-py>=2.2.0 in c:\\users\\amito\\appdata\\roaming\\python\\python312\\site-packages (from rich<14,>=10.14.0->streamlit->-r requirements.txt (line 1)) (3.0.0)\n",
      "Requirement already satisfied: pygments<3.0.0,>=2.13.0 in c:\\users\\amito\\appdata\\roaming\\python\\python312\\site-packages (from rich<14,>=10.14.0->streamlit->-r requirements.txt (line 1)) (2.17.2)\n",
      "Requirement already satisfied: httplib2<1.dev0,>=0.19.0 in c:\\users\\amito\\appdata\\roaming\\python\\python312\\site-packages (from google-api-python-client->google-generativeai->-r requirements.txt (line 6)) (0.22.0)\n",
      "Requirement already satisfied: google-auth-httplib2<1.0.0,>=0.2.0 in c:\\users\\amito\\appdata\\roaming\\python\\python312\\site-packages (from google-api-python-client->google-generativeai->-r requirements.txt (line 6)) (0.2.0)\n",
      "Requirement already satisfied: uritemplate<5,>=3.0.1 in c:\\users\\amito\\appdata\\roaming\\python\\python312\\site-packages (from google-api-python-client->google-generativeai->-r requirements.txt (line 6)) (4.1.1)\n",
      "Requirement already satisfied: smmap<6,>=3.0.1 in c:\\users\\amito\\appdata\\roaming\\python\\python312\\site-packages (from gitdb<5,>=4.0.1->gitpython!=3.1.19,<4,>=3.0.7->streamlit->-r requirements.txt (line 1)) (5.0.1)\n",
      "Requirement already satisfied: grpcio<2.0dev,>=1.33.2 in c:\\users\\amito\\appdata\\roaming\\python\\python312\\site-packages (from google-api-core[grpc]!=2.0.*,!=2.1.*,!=2.10.*,!=2.2.*,!=2.3.*,!=2.4.*,!=2.5.*,!=2.6.*,!=2.7.*,!=2.8.*,!=2.9.*,<3.0.0dev,>=1.34.1->google-ai-generativelanguage==0.6.6->google-generativeai->-r requirements.txt (line 6)) (1.64.1)\n",
      "Requirement already satisfied: grpcio-status<2.0.dev0,>=1.33.2 in c:\\users\\amito\\appdata\\roaming\\python\\python312\\site-packages (from google-api-core[grpc]!=2.0.*,!=2.1.*,!=2.10.*,!=2.2.*,!=2.3.*,!=2.4.*,!=2.5.*,!=2.6.*,!=2.7.*,!=2.8.*,!=2.9.*,<3.0.0dev,>=1.34.1->google-ai-generativelanguage==0.6.6->google-generativeai->-r requirements.txt (line 6)) (1.62.2)\n",
      "Requirement already satisfied: pyparsing!=3.0.0,!=3.0.1,!=3.0.2,!=3.0.3,<4,>=2.4.2 in c:\\users\\amito\\appdata\\roaming\\python\\python312\\site-packages (from httplib2<1.dev0,>=0.19.0->google-api-python-client->google-generativeai->-r requirements.txt (line 6)) (3.1.1)\n",
      "Requirement already satisfied: MarkupSafe>=2.0 in c:\\users\\amito\\appdata\\roaming\\python\\python312\\site-packages (from jinja2->altair<6,>=4.0->streamlit->-r requirements.txt (line 1)) (2.1.3)\n",
      "Requirement already satisfied: jsonpointer>=1.9 in c:\\users\\amito\\appdata\\roaming\\python\\python312\\site-packages (from jsonpatch<2.0,>=1.33->langchain-core<0.3,>=0.2.9->langchain_google_genai->-r requirements.txt (line 5)) (2.4)\n",
      "Requirement already satisfied: attrs>=22.2.0 in c:\\users\\amito\\appdata\\roaming\\python\\python312\\site-packages (from jsonschema>=3.0->altair<6,>=4.0->streamlit->-r requirements.txt (line 1)) (23.2.0)\n",
      "Requirement already satisfied: jsonschema-specifications>=2023.03.6 in c:\\users\\amito\\appdata\\roaming\\python\\python312\\site-packages (from jsonschema>=3.0->altair<6,>=4.0->streamlit->-r requirements.txt (line 1)) (2023.12.1)\n",
      "Requirement already satisfied: referencing>=0.28.4 in c:\\users\\amito\\appdata\\roaming\\python\\python312\\site-packages (from jsonschema>=3.0->altair<6,>=4.0->streamlit->-r requirements.txt (line 1)) (0.32.1)\n",
      "Requirement already satisfied: rpds-py>=0.7.1 in c:\\users\\amito\\appdata\\roaming\\python\\python312\\site-packages (from jsonschema>=3.0->altair<6,>=4.0->streamlit->-r requirements.txt (line 1)) (0.16.2)\n",
      "Requirement already satisfied: orjson<4.0.0,>=3.9.14 in c:\\users\\amito\\appdata\\roaming\\python\\python312\\site-packages (from langsmith<0.2.0,>=0.1.75->langchain-core<0.3,>=0.2.9->langchain_google_genai->-r requirements.txt (line 5)) (3.10.6)\n",
      "Requirement already satisfied: mdurl~=0.1 in c:\\users\\amito\\appdata\\roaming\\python\\python312\\site-packages (from markdown-it-py>=2.2.0->rich<14,>=10.14.0->streamlit->-r requirements.txt (line 1)) (0.1.2)\n",
      "Requirement already satisfied: pyasn1<0.7.0,>=0.4.6 in c:\\users\\amito\\appdata\\roaming\\python\\python312\\site-packages (from pyasn1-modules>=0.2.1->google-auth>=2.15.0->google-generativeai->-r requirements.txt (line 6)) (0.6.0)\n",
      "Requirement already satisfied: six>=1.5 in c:\\users\\amito\\appdata\\roaming\\python\\python312\\site-packages (from python-dateutil>=2.8.2->pandas<3,>=1.3.0->streamlit->-r requirements.txt (line 1)) (1.16.0)\n",
      "Note: you may need to restart the kernel to use updated packages.\n"
     ]
    }
   ],
   "source": [
    "pip install -r requirements.txt\n"
   ]
  },
  {
   "cell_type": "code",
   "execution_count": 9,
   "metadata": {},
   "outputs": [
    {
     "name": "stdout",
     "output_type": "stream",
     "text": [
      "Streamlit app running with PID: 28300\n"
     ]
    }
   ],
   "source": [
    "import subprocess\n",
    "\n",
    "# Define the path to your Streamlit app\n",
    "streamlit_app_path = \"app1.py\"\n",
    "\n",
    "# Run the Streamlit app as a subprocess\n",
    "process = subprocess.Popen(['streamlit', 'run', streamlit_app_path])\n",
    "\n",
    "# Output the process ID to confirm it is running\n",
    "print(f\"Streamlit app running with PID: {process.pid}\")"
   ]
  }
 ],
 "metadata": {
  "kernelspec": {
   "display_name": "Python 3",
   "language": "python",
   "name": "python3"
  },
  "language_info": {
   "codemirror_mode": {
    "name": "ipython",
    "version": 3
   },
   "file_extension": ".py",
   "mimetype": "text/x-python",
   "name": "python",
   "nbconvert_exporter": "python",
   "pygments_lexer": "ipython3",
   "version": "3.12.0"
  }
 },
 "nbformat": 4,
 "nbformat_minor": 2
}
